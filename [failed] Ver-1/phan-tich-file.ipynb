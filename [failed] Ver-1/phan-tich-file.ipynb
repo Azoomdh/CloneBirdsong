{
 "cells": [
  {
   "cell_type": "code",
   "execution_count": null,
   "metadata": {},
   "outputs": [],
   "source": [
    "! pip install librosa"
   ]
  },
  {
   "cell_type": "code",
   "execution_count": null,
   "metadata": {},
   "outputs": [],
   "source": [
    "! conda install -c conda-forge ffmpeg"
   ]
  },
  {
   "cell_type": "markdown",
   "metadata": {},
   "source": [
    "https://github.com/librosa/librosa"
   ]
  },
  {
   "cell_type": "code",
   "execution_count": 2,
   "metadata": {},
   "outputs": [
    {
     "name": "stdout",
     "output_type": "stream",
     "text": [
      "INSTALLED VERSIONS\n",
      "------------------\n",
      "python: 3.13.3 (tags/v3.13.3:6280bb5, Apr  8 2025, 14:47:33) [MSC v.1943 64 bit (AMD64)]\n",
      "\n",
      "librosa: 0.11.0\n",
      "\n",
      "audioread: 3.0.1\n",
      "numpy: 2.2.4\n",
      "scipy: 1.15.2\n",
      "sklearn: 1.6.1\n",
      "joblib: 1.4.2\n",
      "decorator: 5.2.1\n",
      "numba: 0.61.2\n",
      "soundfile: 0.13.1\n",
      "pooch: v1.8.2\n",
      "soxr: 0.5.0.post1\n",
      "typing_extensions: installed, no version number available\n",
      "lazy_loader: 0.4\n",
      "msgpack: 1.1.0\n",
      "\n",
      "numpydoc: None\n",
      "sphinx: None\n",
      "sphinx_rtd_theme: None\n",
      "matplotlib: None\n",
      "sphinx_multiversion: None\n",
      "sphinx_gallery: None\n",
      "mir_eval: None\n",
      "ipython: None\n",
      "sphinxcontrib.rsvgconverter: None\n",
      "pytest: None\n",
      "pytest_mpl: None\n",
      "pytest_cov: None\n",
      "samplerate: None\n",
      "resampy: None\n",
      "presets: None\n",
      "packaging: 24.2\n"
     ]
    }
   ],
   "source": [
    "import librosa\n",
    "librosa.show_versions()"
   ]
  }
 ],
 "metadata": {
  "kernelspec": {
   "display_name": "Python 3",
   "language": "python",
   "name": "python3"
  },
  "language_info": {
   "codemirror_mode": {
    "name": "ipython",
    "version": 3
   },
   "file_extension": ".py",
   "mimetype": "text/x-python",
   "name": "python",
   "nbconvert_exporter": "python",
   "pygments_lexer": "ipython3",
   "version": "3.13.3"
  }
 },
 "nbformat": 4,
 "nbformat_minor": 2
}
