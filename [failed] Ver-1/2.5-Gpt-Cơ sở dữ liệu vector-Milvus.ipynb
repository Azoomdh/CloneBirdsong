{
 "cells": [
  {
   "cell_type": "markdown",
   "id": "50b6507f",
   "metadata": {},
   "source": [
    "# https://milvus.io/docs/quickstart.md"
   ]
  },
  {
   "cell_type": "code",
   "execution_count": null,
   "id": "caab5ce5",
   "metadata": {
    "vscode": {
     "languageId": "powershell"
    }
   },
   "outputs": [],
   "source": [
    "pip install -U pymilvus"
   ]
  },
  {
   "cell_type": "markdown",
   "id": "145860d4",
   "metadata": {},
   "source": [
    "# 1, Tạo 1 DB"
   ]
  },
  {
   "cell_type": "raw",
   "id": "b7786a07",
   "metadata": {},
   "source": [
    "(dồn mọi thứ thành 1 file)\n",
    "\n",
    "(không dùng folder)"
   ]
  },
  {
   "cell_type": "raw",
   "id": "3570539b",
   "metadata": {
    "vscode": {
     "languageId": "bat"
    }
   },
   "source": [
    "1 CSDL Milvus= 1 file có đường dẫn\n",
    "\n",
    "C:\\Users\\azoom\\OneDrive\\Máy tính\\Birdsong-copy\\CSDL\\milvusFakeCsdl.db"
   ]
  },
  {
   "cell_type": "code",
   "execution_count": null,
   "id": "a441fa7c",
   "metadata": {},
   "outputs": [],
   "source": [
    "from pymilvus import MilvusClient\n",
    "\n",
    "clientCsdl = MilvusClient( \"C:\\\\Users\\\\azoom\\\\OneDrive\\\\Máy tính\\\\Birdsong-copy\\\\CSDL\\\\milvusFakeCsdl.db\" )"
   ]
  },
  {
   "cell_type": "markdown",
   "id": "95639205",
   "metadata": {},
   "source": [
    "# 2, Tạo 1 bảng\n",
    "\n",
    "(bảng của Milvus được gọi là Collection)"
   ]
  },
  {
   "cell_type": "code",
   "execution_count": null,
   "id": "1fd2d984",
   "metadata": {},
   "outputs": [],
   "source": [
    "clientCsdl.create_collection(\n",
    "    collection_name=\"demo_collection\",\n",
    "    dimension=768,  # The vectors we will use in this demo has 768 dimensions\n",
    ")"
   ]
  },
  {
   "cell_type": "markdown",
   "id": "40a23e3c",
   "metadata": {},
   "source": [
    "# 3, Xóa 1 bảng\n",
    "\n",
    "(bảng của Milvus được gọi là Collection)"
   ]
  },
  {
   "cell_type": "code",
   "execution_count": null,
   "id": "c0d06778",
   "metadata": {},
   "outputs": [],
   "source": [
    "clientCsdl.drop_collection(collection_name=\"demo_collection\")"
   ]
  },
  {
   "cell_type": "markdown",
   "id": "c5842118",
   "metadata": {},
   "source": [
    "# 4, Insert 3 hàng vào 1 bảng\n",
    "\n",
    "(danh sách hàng của Milvus được gọi là data)"
   ]
  },
  {
   "cell_type": "code",
   "execution_count": null,
   "id": "6d1c034a",
   "metadata": {},
   "outputs": [],
   "source": [
    "\n",
    "\n",
    "res = client.insert(\n",
    "  collection_name=\"demo_collection\",\n",
    "  data=[\n",
    "    {\"id\": 0, \"vector\": [0.1, 0.2, 0.3, 0.2, 0.1], \"text\": \"AI was proposed in 1956.\", \"subject\": \"history\"},\n",
    "    {\"id\": 1, \"vector\": [0.1, 0.2, 0.3, 0.2, 0.1], \"text\": \"Alan Turing was born in London.\", \"subject\": \"history\"},\n",
    "    {\"id\": 2, \"vector\": [0.1, 0.2, 0.3, 0.2, 0.1], \"text\": \"Computational synthesis with AI algorithms predicts molecular properties.\", \"subject\": \"biology\"},\n",
    "  ]\n",
    ")"
   ]
  },
  {
   "cell_type": "code",
   "execution_count": null,
   "id": "47c4aa72",
   "metadata": {
    "vscode": {
     "languageId": "java"
    }
   },
   "outputs": [],
   "source": []
  }
 ],
 "metadata": {
  "language_info": {
   "name": "python"
  }
 },
 "nbformat": 4,
 "nbformat_minor": 5
}
