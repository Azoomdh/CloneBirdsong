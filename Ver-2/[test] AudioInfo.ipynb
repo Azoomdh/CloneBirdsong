{
 "cells": [
  {
   "cell_type": "code",
   "execution_count": 1,
   "id": "924e07ae",
   "metadata": {},
   "outputs": [],
   "source": [
    "import AudioInfo"
   ]
  },
  {
   "cell_type": "markdown",
   "id": "a27d6558",
   "metadata": {
    "vscode": {
     "languageId": "html"
    }
   },
   "source": [
    "link file test <br/>\n",
    "<a href=\"..\\\\file-birdsong\\\\songs\\\\songs\\\\xc25119.flac\"> ..\\\\file-birdsong\\\\songs\\\\songs\\\\xc25119.flac</a>"
   ]
  },
  {
   "cell_type": "code",
   "execution_count": 2,
   "id": "f5b27e91",
   "metadata": {},
   "outputs": [
    {
     "name": "stdout",
     "output_type": "stream",
     "text": [
      "    zcrMean  specCenMean  specRolloffMean  mfcc_0_Mean  mfcc_1_Mean  \\\n",
      "0  0.225821   3366.75068      6625.801686  -228.677979    62.018307   \n",
      "\n",
      "   mfcc_2_Mean  mfcc_3_Mean  mfcc_4_Mean  mfcc_5_Mean  mfcc_6_Mean  ...  \\\n",
      "0    -3.609569     8.371536   -15.901087     0.325525     -2.54292  ...   \n",
      "\n",
      "   chroma_2_Mean  chroma_3_Mean  chroma_4_Mean  chroma_5_Mean  chroma_6_Mean  \\\n",
      "0       0.539014       0.523523        0.54096       0.544682       0.645389   \n",
      "\n",
      "   chroma_7_Mean  chroma_8_Mean  chroma_9_Mean  chroma_10_Mean  chroma_11_Mean  \n",
      "0       0.728776       0.591985        0.55095        0.555772        0.528896  \n",
      "\n",
      "[1 rows x 28 columns]\n"
     ]
    }
   ],
   "source": [
    "pathFileTest = \"..\\\\file-birdsong\\\\songs\\\\songs\\\\xc25119.flac\"\n",
    "\n",
    "audioInfo1 = AudioInfo.AudioInfo(duongDan= pathFileTest);\n",
    "\n",
    "vectorDacTrung1= audioInfo1.getVectorFeature();\n",
    "\n",
    "print(vectorDacTrung1)"
   ]
  }
 ],
 "metadata": {
  "kernelspec": {
   "display_name": "Python 3",
   "language": "python",
   "name": "python3"
  },
  "language_info": {
   "codemirror_mode": {
    "name": "ipython",
    "version": 3
   },
   "file_extension": ".py",
   "mimetype": "text/x-python",
   "name": "python",
   "nbconvert_exporter": "python",
   "pygments_lexer": "ipython3",
   "version": "3.13.3"
  }
 },
 "nbformat": 4,
 "nbformat_minor": 5
}
