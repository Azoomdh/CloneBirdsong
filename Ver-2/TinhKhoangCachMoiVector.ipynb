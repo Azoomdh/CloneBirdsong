{
 "cells": [
  {
   "cell_type": "code",
   "execution_count": 2,
   "id": "43a047e0",
   "metadata": {},
   "outputs": [],
   "source": [
    "import TinhKhoangCachMoiVector\n",
    "import AudioInfo"
   ]
  },
  {
   "cell_type": "code",
   "execution_count": 3,
   "id": "04aaacd8",
   "metadata": {},
   "outputs": [],
   "source": [
    "import pandas as pd"
   ]
  },
  {
   "cell_type": "code",
   "execution_count": 4,
   "id": "4f0eba7e",
   "metadata": {},
   "outputs": [],
   "source": [
    "duongDanCsvFv1 = \"..\\\\file-birdsong\\\\songs\\\\birdsongFeatureVector.csv\"\n",
    "duongDanCsvFvMeanStd1 = \"..\\\\file-birdsong\\\\songs\\\\birdsongFvMeanStd.csv\""
   ]
  },
  {
   "cell_type": "code",
   "execution_count": 5,
   "id": "fca33110",
   "metadata": {},
   "outputs": [],
   "source": [
    "duongDanFileAmNhacTimKiem1 = \"..\\\\file-birdsong\\\\songs\\\\songTest\\\\xc96464.flac\""
   ]
  },
  {
   "cell_type": "code",
   "execution_count": 6,
   "id": "94ea903b",
   "metadata": {},
   "outputs": [],
   "source": [
    "duongDanCsvLuuKetQuaTimKiem= \"..\\\\file-birdsong\\\\songs\\\\birdsongKetQuaTimKiem.csv\""
   ]
  },
  {
   "cell_type": "code",
   "execution_count": 7,
   "id": "8b429acf",
   "metadata": {},
   "outputs": [],
   "source": [
    "dfFv1 = pd.read_csv(filepath_or_buffer= duongDanCsvFv1)\n",
    "\n",
    "dfFvMeanStd1 = pd.read_csv(filepath_or_buffer= duongDanCsvFvMeanStd1)\n",
    "\n",
    "dfFvFileTruyVan1 = AudioInfo.AudioInfo(duongDan= duongDanFileAmNhacTimKiem1, dfFvRow= None).getVectorFeature()"
   ]
  },
  {
   "cell_type": "code",
   "execution_count": 8,
   "id": "84c8dcc8",
   "metadata": {},
   "outputs": [],
   "source": [
    "dfKetQuaTruyVan = TinhKhoangCachMoiVector.tinhKhoangCachMoiVector(\n",
    "    duongDanCsvLuuKetQuaTimKiem= duongDanCsvLuuKetQuaTimKiem, \n",
    "    dfFv= dfFv1, \n",
    "    dfFvMeanStd= dfFvMeanStd1, \n",
    "    dfFvFileTruyVan= dfFvFileTruyVan1 \n",
    ")"
   ]
  },
  {
   "cell_type": "code",
   "execution_count": 9,
   "id": "8951cac6",
   "metadata": {},
   "outputs": [
    {
     "data": {
      "application/vnd.microsoft.datawrangler.viewer.v0+json": {
       "columns": [
        {
         "name": "index",
         "rawType": "int64",
         "type": "integer"
        },
        {
         "name": "duongDan",
         "rawType": "object",
         "type": "string"
        },
        {
         "name": "khoangCach",
         "rawType": "float64",
         "type": "float"
        }
       ],
       "conversionMethod": "pd.DataFrame",
       "ref": "6be58c02-455a-488b-b7e0-81e137befd8f",
       "rows": [
        [
         "112",
         "..\\file-birdsong\\songs\\songs\\xc146757.flac",
         "3.300173934220069"
        ],
        [
         "99",
         "..\\file-birdsong\\songs\\songs\\xc143894.flac",
         "3.7621840393736563"
        ],
        [
         "184",
         "..\\file-birdsong\\songs\\songs\\xc59776.flac",
         "4.186019388370101"
        ],
        [
         "28",
         "..\\file-birdsong\\songs\\songs\\xc116226.flac",
         "4.232075456762792"
        ],
        [
         "39",
         "..\\file-birdsong\\songs\\songs\\xc121691.flac",
         "4.35543003159296"
        ]
       ],
       "shape": {
        "columns": 2,
        "rows": 5
       }
      },
      "text/html": [
       "<div>\n",
       "<style scoped>\n",
       "    .dataframe tbody tr th:only-of-type {\n",
       "        vertical-align: middle;\n",
       "    }\n",
       "\n",
       "    .dataframe tbody tr th {\n",
       "        vertical-align: top;\n",
       "    }\n",
       "\n",
       "    .dataframe thead th {\n",
       "        text-align: right;\n",
       "    }\n",
       "</style>\n",
       "<table border=\"1\" class=\"dataframe\">\n",
       "  <thead>\n",
       "    <tr style=\"text-align: right;\">\n",
       "      <th></th>\n",
       "      <th>duongDan</th>\n",
       "      <th>khoangCach</th>\n",
       "    </tr>\n",
       "  </thead>\n",
       "  <tbody>\n",
       "    <tr>\n",
       "      <th>112</th>\n",
       "      <td>..\\file-birdsong\\songs\\songs\\xc146757.flac</td>\n",
       "      <td>3.300174</td>\n",
       "    </tr>\n",
       "    <tr>\n",
       "      <th>99</th>\n",
       "      <td>..\\file-birdsong\\songs\\songs\\xc143894.flac</td>\n",
       "      <td>3.762184</td>\n",
       "    </tr>\n",
       "    <tr>\n",
       "      <th>184</th>\n",
       "      <td>..\\file-birdsong\\songs\\songs\\xc59776.flac</td>\n",
       "      <td>4.186019</td>\n",
       "    </tr>\n",
       "    <tr>\n",
       "      <th>28</th>\n",
       "      <td>..\\file-birdsong\\songs\\songs\\xc116226.flac</td>\n",
       "      <td>4.232075</td>\n",
       "    </tr>\n",
       "    <tr>\n",
       "      <th>39</th>\n",
       "      <td>..\\file-birdsong\\songs\\songs\\xc121691.flac</td>\n",
       "      <td>4.355430</td>\n",
       "    </tr>\n",
       "  </tbody>\n",
       "</table>\n",
       "</div>"
      ],
      "text/plain": [
       "                                       duongDan  khoangCach\n",
       "112  ..\\file-birdsong\\songs\\songs\\xc146757.flac    3.300174\n",
       "99   ..\\file-birdsong\\songs\\songs\\xc143894.flac    3.762184\n",
       "184   ..\\file-birdsong\\songs\\songs\\xc59776.flac    4.186019\n",
       "28   ..\\file-birdsong\\songs\\songs\\xc116226.flac    4.232075\n",
       "39   ..\\file-birdsong\\songs\\songs\\xc121691.flac    4.355430"
      ]
     },
     "execution_count": 9,
     "metadata": {},
     "output_type": "execute_result"
    }
   ],
   "source": [
    "dfKetQuaTruyVan.head(5)"
   ]
  },
  {
   "cell_type": "code",
   "execution_count": 10,
   "id": "3035b773",
   "metadata": {},
   "outputs": [
    {
     "name": "stdout",
     "output_type": "stream",
     "text": [
      "                                       duongDan  khoangCach\n",
      "112  ..\\file-birdsong\\songs\\songs\\xc146757.flac    3.300174\n",
      "99   ..\\file-birdsong\\songs\\songs\\xc143894.flac    3.762184\n",
      "184   ..\\file-birdsong\\songs\\songs\\xc59776.flac    4.186019\n",
      "28   ..\\file-birdsong\\songs\\songs\\xc116226.flac    4.232075\n",
      "39   ..\\file-birdsong\\songs\\songs\\xc121691.flac    4.355430\n"
     ]
    }
   ],
   "source": [
    "print(dfKetQuaTruyVan.head(5))"
   ]
  }
 ],
 "metadata": {
  "kernelspec": {
   "display_name": "Python 3",
   "language": "python",
   "name": "python3"
  },
  "language_info": {
   "codemirror_mode": {
    "name": "ipython",
    "version": 3
   },
   "file_extension": ".py",
   "mimetype": "text/x-python",
   "name": "python",
   "nbconvert_exporter": "python",
   "pygments_lexer": "ipython3",
   "version": "3.13.3"
  }
 },
 "nbformat": 4,
 "nbformat_minor": 5
}
