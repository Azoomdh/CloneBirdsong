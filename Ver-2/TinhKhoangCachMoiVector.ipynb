{
 "cells": [
  {
   "cell_type": "code",
   "execution_count": 9,
   "id": "43a047e0",
   "metadata": {},
   "outputs": [],
   "source": [
    "import TinhKhoangCachMoiVector\n",
    "import AudioInfo"
   ]
  },
  {
   "cell_type": "code",
   "execution_count": 10,
   "id": "04aaacd8",
   "metadata": {},
   "outputs": [],
   "source": [
    "import pandas as pd"
   ]
  },
  {
   "cell_type": "code",
   "execution_count": 11,
   "id": "4f0eba7e",
   "metadata": {},
   "outputs": [],
   "source": [
    "duongDanCsvFv1 = \"..\\\\file-birdsong\\\\songs\\\\birdsongFeatureVector.csv\"\n",
    "duongDanCsvFvMeanStd1 = \"..\\\\file-birdsong\\\\songs\\\\birdsongFvMeanStd.csv\""
   ]
  },
  {
   "cell_type": "code",
   "execution_count": 12,
   "id": "fca33110",
   "metadata": {},
   "outputs": [],
   "source": [
    "duongDanFileAmNhacTimKiem1 = \"..\\\\file-birdsong\\\\songs\\\\songTest\\\\79974-0.wav\""
   ]
  },
  {
   "cell_type": "code",
   "execution_count": 13,
   "id": "94ea903b",
   "metadata": {},
   "outputs": [],
   "source": [
    "duongDanCsvLuuKetQuaTimKiem= \"..\\\\file-birdsong\\\\songs\\\\birdsongKetQuaTimKiem.csv\""
   ]
  },
  {
   "cell_type": "code",
   "execution_count": 14,
   "id": "8b429acf",
   "metadata": {},
   "outputs": [],
   "source": [
    "dfFv1 = pd.read_csv(filepath_or_buffer= duongDanCsvFv1)\n",
    "\n",
    "dfFvMeanStd1 = pd.read_csv(filepath_or_buffer= duongDanCsvFvMeanStd1)\n",
    "\n",
    "dfFvFileTruyVan1 = AudioInfo.AudioInfo(duongDan= duongDanFileAmNhacTimKiem1, dfFvRow= None).getVectorFeature()"
   ]
  },
  {
   "cell_type": "code",
   "execution_count": 15,
   "id": "84c8dcc8",
   "metadata": {},
   "outputs": [],
   "source": [
    "dfKetQuaTruyVan = TinhKhoangCachMoiVector.tinhKhoangCachMoiVector(\n",
    "    duongDanCsvLuuKetQuaTimKiem= duongDanCsvLuuKetQuaTimKiem, \n",
    "    dfFv= dfFv1, \n",
    "    dfFvMeanStd= dfFvMeanStd1, \n",
    "    dfFvFileTruyVan= dfFvFileTruyVan1 \n",
    ")"
   ]
  },
  {
   "cell_type": "code",
   "execution_count": 16,
   "id": "8951cac6",
   "metadata": {},
   "outputs": [
    {
     "data": {
      "application/vnd.microsoft.datawrangler.viewer.v0+json": {
       "columns": [
        {
         "name": "index",
         "rawType": "int64",
         "type": "integer"
        },
        {
         "name": "duongDan",
         "rawType": "object",
         "type": "string"
        },
        {
         "name": "khoangCach",
         "rawType": "float64",
         "type": "float"
        }
       ],
       "conversionMethod": "pd.DataFrame",
       "ref": "7d98dba4-a43b-43de-84da-a454867f1cb7",
       "rows": [
        [
         "146",
         "..\\file-birdsong\\songs\\songs\\67466-0.wav",
         "3.192624093203082"
        ],
        [
         "145",
         "..\\file-birdsong\\songs\\songs\\66355-0.wav",
         "3.3281442844308113"
        ],
        [
         "43",
         "..\\file-birdsong\\songs\\songs\\486798-0.wav",
         "3.392002006805597"
        ],
        [
         "98",
         "..\\file-birdsong\\songs\\songs\\554192-0.wav",
         "3.5924271168596866"
        ],
        [
         "48",
         "..\\file-birdsong\\songs\\songs\\490595-0.wav",
         "3.675022618401092"
        ]
       ],
       "shape": {
        "columns": 2,
        "rows": 5
       }
      },
      "text/html": [
       "<div>\n",
       "<style scoped>\n",
       "    .dataframe tbody tr th:only-of-type {\n",
       "        vertical-align: middle;\n",
       "    }\n",
       "\n",
       "    .dataframe tbody tr th {\n",
       "        vertical-align: top;\n",
       "    }\n",
       "\n",
       "    .dataframe thead th {\n",
       "        text-align: right;\n",
       "    }\n",
       "</style>\n",
       "<table border=\"1\" class=\"dataframe\">\n",
       "  <thead>\n",
       "    <tr style=\"text-align: right;\">\n",
       "      <th></th>\n",
       "      <th>duongDan</th>\n",
       "      <th>khoangCach</th>\n",
       "    </tr>\n",
       "  </thead>\n",
       "  <tbody>\n",
       "    <tr>\n",
       "      <th>146</th>\n",
       "      <td>..\\file-birdsong\\songs\\songs\\67466-0.wav</td>\n",
       "      <td>3.192624</td>\n",
       "    </tr>\n",
       "    <tr>\n",
       "      <th>145</th>\n",
       "      <td>..\\file-birdsong\\songs\\songs\\66355-0.wav</td>\n",
       "      <td>3.328144</td>\n",
       "    </tr>\n",
       "    <tr>\n",
       "      <th>43</th>\n",
       "      <td>..\\file-birdsong\\songs\\songs\\486798-0.wav</td>\n",
       "      <td>3.392002</td>\n",
       "    </tr>\n",
       "    <tr>\n",
       "      <th>98</th>\n",
       "      <td>..\\file-birdsong\\songs\\songs\\554192-0.wav</td>\n",
       "      <td>3.592427</td>\n",
       "    </tr>\n",
       "    <tr>\n",
       "      <th>48</th>\n",
       "      <td>..\\file-birdsong\\songs\\songs\\490595-0.wav</td>\n",
       "      <td>3.675023</td>\n",
       "    </tr>\n",
       "  </tbody>\n",
       "</table>\n",
       "</div>"
      ],
      "text/plain": [
       "                                      duongDan  khoangCach\n",
       "146   ..\\file-birdsong\\songs\\songs\\67466-0.wav    3.192624\n",
       "145   ..\\file-birdsong\\songs\\songs\\66355-0.wav    3.328144\n",
       "43   ..\\file-birdsong\\songs\\songs\\486798-0.wav    3.392002\n",
       "98   ..\\file-birdsong\\songs\\songs\\554192-0.wav    3.592427\n",
       "48   ..\\file-birdsong\\songs\\songs\\490595-0.wav    3.675023"
      ]
     },
     "execution_count": 16,
     "metadata": {},
     "output_type": "execute_result"
    }
   ],
   "source": [
    "dfKetQuaTruyVan.head(5)"
   ]
  },
  {
   "cell_type": "code",
   "execution_count": 17,
   "id": "3035b773",
   "metadata": {},
   "outputs": [
    {
     "name": "stdout",
     "output_type": "stream",
     "text": [
      "                                      duongDan  khoangCach\n",
      "146   ..\\file-birdsong\\songs\\songs\\67466-0.wav    3.192624\n",
      "145   ..\\file-birdsong\\songs\\songs\\66355-0.wav    3.328144\n",
      "43   ..\\file-birdsong\\songs\\songs\\486798-0.wav    3.392002\n",
      "98   ..\\file-birdsong\\songs\\songs\\554192-0.wav    3.592427\n",
      "48   ..\\file-birdsong\\songs\\songs\\490595-0.wav    3.675023\n"
     ]
    }
   ],
   "source": [
    "print(dfKetQuaTruyVan.head(5))"
   ]
  },
  {
   "cell_type": "code",
   "execution_count": 18,
   "id": "fd93c54f",
   "metadata": {},
   "outputs": [
    {
     "data": {
      "text/html": [
       "<a href='..\\file-birdsong\\songs\\songs\\67466-0.wav' > ..\\file-birdsong\\songs\\songs\\67466-0.wav </a>khoang cach : 3.192624093203082<br/> <br/> "
      ],
      "text/plain": [
       "<IPython.core.display.HTML object>"
      ]
     },
     "metadata": {},
     "output_type": "display_data"
    },
    {
     "data": {
      "text/html": [
       "<a href='..\\file-birdsong\\songs\\songs\\66355-0.wav' > ..\\file-birdsong\\songs\\songs\\66355-0.wav </a>khoang cach : 3.3281442844308113<br/> <br/> "
      ],
      "text/plain": [
       "<IPython.core.display.HTML object>"
      ]
     },
     "metadata": {},
     "output_type": "display_data"
    },
    {
     "data": {
      "text/html": [
       "<a href='..\\file-birdsong\\songs\\songs\\486798-0.wav' > ..\\file-birdsong\\songs\\songs\\486798-0.wav </a>khoang cach : 3.392002006805597<br/> <br/> "
      ],
      "text/plain": [
       "<IPython.core.display.HTML object>"
      ]
     },
     "metadata": {},
     "output_type": "display_data"
    },
    {
     "data": {
      "text/html": [
       "<a href='..\\file-birdsong\\songs\\songs\\554192-0.wav' > ..\\file-birdsong\\songs\\songs\\554192-0.wav </a>khoang cach : 3.5924271168596866<br/> <br/> "
      ],
      "text/plain": [
       "<IPython.core.display.HTML object>"
      ]
     },
     "metadata": {},
     "output_type": "display_data"
    },
    {
     "data": {
      "text/html": [
       "<a href='..\\file-birdsong\\songs\\songs\\490595-0.wav' > ..\\file-birdsong\\songs\\songs\\490595-0.wav </a>khoang cach : 3.675022618401092<br/> <br/> "
      ],
      "text/plain": [
       "<IPython.core.display.HTML object>"
      ]
     },
     "metadata": {},
     "output_type": "display_data"
    }
   ],
   "source": [
    "from IPython.display import display, HTML\n",
    "\n",
    "for i in range(0, 5):\n",
    "    ketqua = dfKetQuaTruyVan[i : (i+1)]\n",
    "    duongDan = ketqua['duongDan'].iloc[0]\n",
    "    khoangCach = ketqua['khoangCach'].iloc[0]\n",
    "    display(\n",
    "        HTML( \n",
    "            f\"<a href='{duongDan}' > { duongDan } </a>\"\n",
    "            + f\"khoang cach : {khoangCach}\"\n",
    "            + \"<br/> \"\n",
    "            + \"<br/> \" \n",
    "        )\n",
    "    ) \n",
    "#"
   ]
  },
  {
   "cell_type": "code",
   "execution_count": 19,
   "id": "f7cca874",
   "metadata": {},
   "outputs": [
    {
     "data": {
      "text/html": [
       "file cần tìm kiếm : <br/><table><tr><th> duong dan file </th><th> audio </th></tr><tr><td><a href='..\\file-birdsong\\songs\\songTest\\79974-0.wav'>..\\file-birdsong\\songs\\songTest\\79974-0.wav</a><td><td><audio controls> <source src='..\\file-birdsong\\songs\\songTest\\79974-0.wav' type='audio/mpeg'> </audio> <td></tr></table><br/><br/><br/>"
      ],
      "text/plain": [
       "<IPython.core.display.HTML object>"
      ]
     },
     "metadata": {},
     "output_type": "display_data"
    },
    {
     "data": {
      "text/html": [
       "kết quả tìm kiếm : <table><tr><th>🟥 Khoang cach</th><th>duong dan toi file</th><th>audio</th></tr><tr><td>3.192624093203082</td><td> <a href='..\\file-birdsong\\songs\\songs\\67466-0.wav'>..\\file-birdsong\\songs\\songs\\67466-0.wav</a> </td><td> <audio controls> <source src='..\\file-birdsong\\songs\\songs\\67466-0.wav' type='audio/mpeg'> </audio> </td></tr><tr><td>3.3281442844308113</td><td> <a href='..\\file-birdsong\\songs\\songs\\66355-0.wav'>..\\file-birdsong\\songs\\songs\\66355-0.wav</a> </td><td> <audio controls> <source src='..\\file-birdsong\\songs\\songs\\66355-0.wav' type='audio/mpeg'> </audio> </td></tr><tr><td>3.392002006805597</td><td> <a href='..\\file-birdsong\\songs\\songs\\486798-0.wav'>..\\file-birdsong\\songs\\songs\\486798-0.wav</a> </td><td> <audio controls> <source src='..\\file-birdsong\\songs\\songs\\486798-0.wav' type='audio/mpeg'> </audio> </td></tr><tr><td>3.5924271168596866</td><td> <a href='..\\file-birdsong\\songs\\songs\\554192-0.wav'>..\\file-birdsong\\songs\\songs\\554192-0.wav</a> </td><td> <audio controls> <source src='..\\file-birdsong\\songs\\songs\\554192-0.wav' type='audio/mpeg'> </audio> </td></tr><tr><td>3.675022618401092</td><td> <a href='..\\file-birdsong\\songs\\songs\\490595-0.wav'>..\\file-birdsong\\songs\\songs\\490595-0.wav</a> </td><td> <audio controls> <source src='..\\file-birdsong\\songs\\songs\\490595-0.wav' type='audio/mpeg'> </audio> </td></tr></table>"
      ],
      "text/plain": [
       "<IPython.core.display.HTML object>"
      ]
     },
     "metadata": {},
     "output_type": "display_data"
    }
   ],
   "source": [
    "from IPython.display import display, HTML\n",
    "\n",
    "\n",
    "display(\n",
    "    HTML(\n",
    "        \"file cần tìm kiếm : <br/>\"\n",
    "        + \"<table>\"\n",
    "            + \"<tr>\"\n",
    "                + \"<th> duong dan file </th>\"\n",
    "                + \"<th> audio </th>\"\n",
    "            + \"</tr>\"\n",
    "\n",
    "            + \"<tr>\"\n",
    "                + f\"<td><a href='{duongDanFileAmNhacTimKiem1}'>{duongDanFileAmNhacTimKiem1}</a><td>\"\n",
    "                + f\"<td><audio controls> <source src='{duongDanFileAmNhacTimKiem1}' type='audio/mpeg'> </audio> <td>\"\n",
    "            + \"</tr>\"\n",
    "        + \"</table>\"\n",
    "        + \"<br/>\"+ \"<br/>\"+ \"<br/>\"\n",
    "    )\n",
    ")\n",
    "\n",
    "\n",
    "s= \"\";\n",
    "\n",
    "for i in range(0, 5):\n",
    "    ketqua = dfKetQuaTruyVan[i : (i+1)]\n",
    "    duongDan = ketqua['duongDan'].iloc[0]\n",
    "    khoangCach = ketqua['khoangCach'].iloc[0]\n",
    "    subS =str(\n",
    "        \"<tr>\"\n",
    "            + f\"<td>{khoangCach}</td>\" \n",
    "            + f\"<td> <a href='{duongDan}'>{duongDan}</a> </td>\"\n",
    "            + f\"<td> <audio controls> <source src='{duongDan}' type='audio/mpeg'> </audio> </td>\"\n",
    "        + \"</tr>\"\n",
    "    )\n",
    "    s= s+ subS \n",
    "#\n",
    "\n",
    "sHtml= str(\n",
    "    \"kết quả tìm kiếm : \"\n",
    "    + \"<table>\"\n",
    "        + \"<tr>\"\n",
    "            + \"<th>🟥 Khoang cach</th>\"\n",
    "            + \"<th>duong dan toi file</th>\"\n",
    "            + \"<th>audio</th>\"\n",
    "        + \"</tr>\"\n",
    "        + s\n",
    "    + \"</table>\"\n",
    "\n",
    ")\n",
    "display(\n",
    "    HTML(\n",
    "        sHtml\n",
    "    )\n",
    ") "
   ]
  }
 ],
 "metadata": {
  "kernelspec": {
   "display_name": "Python 3",
   "language": "python",
   "name": "python3"
  },
  "language_info": {
   "codemirror_mode": {
    "name": "ipython",
    "version": 3
   },
   "file_extension": ".py",
   "mimetype": "text/x-python",
   "name": "python",
   "nbconvert_exporter": "python",
   "pygments_lexer": "ipython3",
   "version": "3.13.3"
  }
 },
 "nbformat": 4,
 "nbformat_minor": 5
}
