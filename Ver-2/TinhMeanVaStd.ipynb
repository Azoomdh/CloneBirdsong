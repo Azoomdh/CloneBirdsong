{
 "cells": [
  {
   "cell_type": "code",
   "execution_count": 1,
   "id": "cbf18d0d",
   "metadata": {},
   "outputs": [],
   "source": [
    "import TinhMeanVaStd"
   ]
  },
  {
   "cell_type": "code",
   "execution_count": 2,
   "id": "29bd3afa",
   "metadata": {},
   "outputs": [],
   "source": [
    "duongDanCsvFv1 = \"..\\\\file-birdsong\\\\songs\\\\birdsongFeatureVector.csv\"\n",
    "# duongDanCsvFvMean1 = \"..\\\\file-birdsong\\\\songs\\\\birdsongFvMean.csv\"\n",
    "# duongDanCsvFvStd1 = \"..\\\\file-birdsong\\\\songs\\\\birdsongFvStd.csv\"\n",
    "\n",
    "duongDanCsvFvMeanStd1 = \"..\\\\file-birdsong\\\\songs\\\\birdsongFvMeanStd.csv\"\n"
   ]
  },
  {
   "cell_type": "code",
   "execution_count": 3,
   "id": "aa6b37dd",
   "metadata": {},
   "outputs": [],
   "source": [
    "TinhMeanVaStd.saveMeanVaStd(\n",
    "    duongDanCsvFv= duongDanCsvFv1, \n",
    "    duongDanCsvFvMeanStd= duongDanCsvFvMeanStd1,\n",
    ")"
   ]
  }
 ],
 "metadata": {
  "kernelspec": {
   "display_name": "Python 3",
   "language": "python",
   "name": "python3"
  },
  "language_info": {
   "codemirror_mode": {
    "name": "ipython",
    "version": 3
   },
   "file_extension": ".py",
   "mimetype": "text/x-python",
   "name": "python",
   "nbconvert_exporter": "python",
   "pygments_lexer": "ipython3",
   "version": "3.13.3"
  }
 },
 "nbformat": 4,
 "nbformat_minor": 5
}
