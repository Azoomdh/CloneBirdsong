{
 "cells": [
  {
   "cell_type": "code",
   "execution_count": 1,
   "id": "924e07ae",
   "metadata": {},
   "outputs": [],
   "source": [
    "import AudioInfo"
   ]
  },
  {
   "cell_type": "markdown",
   "id": "a27d6558",
   "metadata": {
    "vscode": {
     "languageId": "html"
    }
   },
   "source": [
    "link file test <br/>\n",
    "<a href=\"..\\\\file-birdsong\\\\songs\\\\songs\\\\xc25119.flac\"> ..\\\\file-birdsong\\\\songs\\\\songs\\\\xc25119.flac</a>"
   ]
  },
  {
   "cell_type": "code",
   "execution_count": 2,
   "id": "f5b27e91",
   "metadata": {},
   "outputs": [
    {
     "data": {
      "application/vnd.microsoft.datawrangler.viewer.v0+json": {
       "columns": [
        {
         "name": "index",
         "rawType": "int64",
         "type": "integer"
        },
        {
         "name": "duongDan",
         "rawType": "object",
         "type": "string"
        },
        {
         "name": "zcrMean",
         "rawType": "float64",
         "type": "float"
        },
        {
         "name": "specCenMean",
         "rawType": "float64",
         "type": "float"
        },
        {
         "name": "specRolloffMean",
         "rawType": "float64",
         "type": "float"
        },
        {
         "name": "mfcc_0_Mean",
         "rawType": "float32",
         "type": "float"
        },
        {
         "name": "mfcc_1_Mean",
         "rawType": "float32",
         "type": "float"
        },
        {
         "name": "mfcc_2_Mean",
         "rawType": "float32",
         "type": "float"
        },
        {
         "name": "mfcc_3_Mean",
         "rawType": "float32",
         "type": "float"
        },
        {
         "name": "mfcc_4_Mean",
         "rawType": "float32",
         "type": "float"
        },
        {
         "name": "mfcc_5_Mean",
         "rawType": "float32",
         "type": "float"
        },
        {
         "name": "mfcc_6_Mean",
         "rawType": "float32",
         "type": "float"
        },
        {
         "name": "mfcc_7_Mean",
         "rawType": "float32",
         "type": "float"
        },
        {
         "name": "mfcc_8_Mean",
         "rawType": "float32",
         "type": "float"
        },
        {
         "name": "mfcc_9_Mean",
         "rawType": "float32",
         "type": "float"
        },
        {
         "name": "mfcc_10_Mean",
         "rawType": "float32",
         "type": "float"
        },
        {
         "name": "mfcc_11_Mean",
         "rawType": "float32",
         "type": "float"
        },
        {
         "name": "mfcc_12_Mean",
         "rawType": "float32",
         "type": "float"
        },
        {
         "name": "chroma_0_Mean",
         "rawType": "float32",
         "type": "float"
        },
        {
         "name": "chroma_1_Mean",
         "rawType": "float32",
         "type": "float"
        },
        {
         "name": "chroma_2_Mean",
         "rawType": "float32",
         "type": "float"
        },
        {
         "name": "chroma_3_Mean",
         "rawType": "float32",
         "type": "float"
        },
        {
         "name": "chroma_4_Mean",
         "rawType": "float32",
         "type": "float"
        },
        {
         "name": "chroma_5_Mean",
         "rawType": "float32",
         "type": "float"
        },
        {
         "name": "chroma_6_Mean",
         "rawType": "float32",
         "type": "float"
        },
        {
         "name": "chroma_7_Mean",
         "rawType": "float32",
         "type": "float"
        },
        {
         "name": "chroma_8_Mean",
         "rawType": "float32",
         "type": "float"
        },
        {
         "name": "chroma_9_Mean",
         "rawType": "float32",
         "type": "float"
        },
        {
         "name": "chroma_10_Mean",
         "rawType": "float32",
         "type": "float"
        },
        {
         "name": "chroma_11_Mean",
         "rawType": "float32",
         "type": "float"
        }
       ],
       "conversionMethod": "pd.DataFrame",
       "ref": "0721e070-885a-4f44-b0de-628daa0b124a",
       "rows": [
        [
         "0",
         "..\\file-birdsong\\songs\\songs\\xc25119.flac",
         "0.2258211279595214",
         "3366.75067960546",
         "6625.801686211176",
         "-228.67798",
         "62.018307",
         "-3.6095686",
         "8.371536",
         "-15.901087",
         "0.3255254",
         "-2.54292",
         "-1.8004168",
         "-9.566425",
         "3.057519",
         "-3.2543464",
         "-1.7233641",
         "-0.69570684",
         "0.6566628",
         "0.54001576",
         "0.5390144",
         "0.523523",
         "0.5409603",
         "0.5446819",
         "0.64538896",
         "0.7287756",
         "0.5919852",
         "0.55095047",
         "0.5557722",
         "0.5288962"
        ]
       ],
       "shape": {
        "columns": 29,
        "rows": 1
       }
      },
      "text/html": [
       "<div>\n",
       "<style scoped>\n",
       "    .dataframe tbody tr th:only-of-type {\n",
       "        vertical-align: middle;\n",
       "    }\n",
       "\n",
       "    .dataframe tbody tr th {\n",
       "        vertical-align: top;\n",
       "    }\n",
       "\n",
       "    .dataframe thead th {\n",
       "        text-align: right;\n",
       "    }\n",
       "</style>\n",
       "<table border=\"1\" class=\"dataframe\">\n",
       "  <thead>\n",
       "    <tr style=\"text-align: right;\">\n",
       "      <th></th>\n",
       "      <th>duongDan</th>\n",
       "      <th>zcrMean</th>\n",
       "      <th>specCenMean</th>\n",
       "      <th>specRolloffMean</th>\n",
       "      <th>mfcc_0_Mean</th>\n",
       "      <th>mfcc_1_Mean</th>\n",
       "      <th>mfcc_2_Mean</th>\n",
       "      <th>mfcc_3_Mean</th>\n",
       "      <th>mfcc_4_Mean</th>\n",
       "      <th>mfcc_5_Mean</th>\n",
       "      <th>...</th>\n",
       "      <th>chroma_2_Mean</th>\n",
       "      <th>chroma_3_Mean</th>\n",
       "      <th>chroma_4_Mean</th>\n",
       "      <th>chroma_5_Mean</th>\n",
       "      <th>chroma_6_Mean</th>\n",
       "      <th>chroma_7_Mean</th>\n",
       "      <th>chroma_8_Mean</th>\n",
       "      <th>chroma_9_Mean</th>\n",
       "      <th>chroma_10_Mean</th>\n",
       "      <th>chroma_11_Mean</th>\n",
       "    </tr>\n",
       "  </thead>\n",
       "  <tbody>\n",
       "    <tr>\n",
       "      <th>0</th>\n",
       "      <td>..\\file-birdsong\\songs\\songs\\xc25119.flac</td>\n",
       "      <td>0.225821</td>\n",
       "      <td>3366.75068</td>\n",
       "      <td>6625.801686</td>\n",
       "      <td>-228.677979</td>\n",
       "      <td>62.018307</td>\n",
       "      <td>-3.609569</td>\n",
       "      <td>8.371536</td>\n",
       "      <td>-15.901087</td>\n",
       "      <td>0.325525</td>\n",
       "      <td>...</td>\n",
       "      <td>0.539014</td>\n",
       "      <td>0.523523</td>\n",
       "      <td>0.54096</td>\n",
       "      <td>0.544682</td>\n",
       "      <td>0.645389</td>\n",
       "      <td>0.728776</td>\n",
       "      <td>0.591985</td>\n",
       "      <td>0.55095</td>\n",
       "      <td>0.555772</td>\n",
       "      <td>0.528896</td>\n",
       "    </tr>\n",
       "  </tbody>\n",
       "</table>\n",
       "<p>1 rows × 29 columns</p>\n",
       "</div>"
      ],
      "text/plain": [
       "                                    duongDan   zcrMean  specCenMean  \\\n",
       "0  ..\\file-birdsong\\songs\\songs\\xc25119.flac  0.225821   3366.75068   \n",
       "\n",
       "   specRolloffMean  mfcc_0_Mean  mfcc_1_Mean  mfcc_2_Mean  mfcc_3_Mean  \\\n",
       "0      6625.801686  -228.677979    62.018307    -3.609569     8.371536   \n",
       "\n",
       "   mfcc_4_Mean  mfcc_5_Mean  ...  chroma_2_Mean  chroma_3_Mean  chroma_4_Mean  \\\n",
       "0   -15.901087     0.325525  ...       0.539014       0.523523        0.54096   \n",
       "\n",
       "   chroma_5_Mean  chroma_6_Mean  chroma_7_Mean  chroma_8_Mean  chroma_9_Mean  \\\n",
       "0       0.544682       0.645389       0.728776       0.591985        0.55095   \n",
       "\n",
       "   chroma_10_Mean  chroma_11_Mean  \n",
       "0        0.555772        0.528896  \n",
       "\n",
       "[1 rows x 29 columns]"
      ]
     },
     "execution_count": 2,
     "metadata": {},
     "output_type": "execute_result"
    }
   ],
   "source": [
    "pathFileTest = \"..\\\\file-birdsong\\\\songs\\\\songs\\\\xc25119.flac\"\n",
    "\n",
    "audioInfo1 = AudioInfo.AudioInfo(duongDan= pathFileTest);\n",
    "\n",
    "vectorDacTrung1= audioInfo1.getVectorFeature();\n",
    "\n",
    "vectorDacTrung1"
   ]
  }
 ],
 "metadata": {
  "kernelspec": {
   "display_name": "Python 3",
   "language": "python",
   "name": "python3"
  },
  "language_info": {
   "codemirror_mode": {
    "name": "ipython",
    "version": 3
   },
   "file_extension": ".py",
   "mimetype": "text/x-python",
   "name": "python",
   "nbconvert_exporter": "python",
   "pygments_lexer": "ipython3",
   "version": "3.13.3"
  }
 },
 "nbformat": 4,
 "nbformat_minor": 5
}
