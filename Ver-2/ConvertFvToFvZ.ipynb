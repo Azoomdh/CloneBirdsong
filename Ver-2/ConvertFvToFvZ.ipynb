{
 "cells": [
  {
   "cell_type": "code",
   "execution_count": 1,
   "id": "247fea00",
   "metadata": {},
   "outputs": [],
   "source": [
    "import ConvertFvToFvZ\n",
    "import AudioInfo"
   ]
  },
  {
   "cell_type": "markdown",
   "id": "0f907e90",
   "metadata": {},
   "source": [
    "# thêm cách khởi tạo bằng dataframe_iloc"
   ]
  },
  {
   "cell_type": "code",
   "execution_count": 2,
   "id": "3c4f4387",
   "metadata": {},
   "outputs": [],
   "source": [
    "import pandas as pd"
   ]
  },
  {
   "cell_type": "code",
   "execution_count": 3,
   "id": "254066b1",
   "metadata": {},
   "outputs": [],
   "source": [
    "duongDanCsvFv= \"..\\\\file-birdsong\\\\songs\\\\birdsongFeatureVector.csv\"\n",
    "\n",
    "duongDanCsvFvMeanStd= \"..\\\\file-birdsong\\\\songs\\\\birdsongFvMeanStd.csv\"\n"
   ]
  },
  {
   "cell_type": "code",
   "execution_count": 4,
   "id": "4d82c50c",
   "metadata": {},
   "outputs": [
    {
     "name": "stdout",
     "output_type": "stream",
     "text": [
      "                                     duongDan   zcrMean  specCenMean  \\\n",
      "0  ..\\file-birdsong\\songs\\songs\\xc101932.flac  0.367621  4639.337791   \n",
      "\n",
      "   specRolloffMean  mfcc_0_Mean  mfcc_1_Mean  mfcc_2_Mean  mfcc_3_Mean  \\\n",
      "0      7378.780371    -721.7138    -75.53075   -73.765816     15.11451   \n",
      "\n",
      "   mfcc_4_Mean  mfcc_5_Mean  ...  chroma_2_Mean  chroma_3_Mean  chroma_4_Mean  \\\n",
      "0     5.051668    23.512499  ...       0.541298       0.562331       0.463673   \n",
      "\n",
      "   chroma_5_Mean  chroma_6_Mean  chroma_7_Mean  chroma_8_Mean  chroma_9_Mean  \\\n",
      "0       0.424559       0.408483       0.388204       0.355901       0.365858   \n",
      "\n",
      "   chroma_10_Mean  chroma_11_Mean  \n",
      "0        0.414053        0.413755  \n",
      "\n",
      "[1 rows x 29 columns]\n"
     ]
    }
   ],
   "source": [
    "dfFv1= pd.read_csv(filepath_or_buffer= duongDanCsvFv);\n",
    "dfFv_MeanStd1= pd.read_csv(filepath_or_buffer= duongDanCsvFvMeanStd)\n",
    "\n",
    "audioInfo1= AudioInfo.AudioInfo(duongDan= None, dfFvRow= dfFv1.iloc[3])\n",
    "\n",
    "print(audioInfo1.getVectorFeature());"
   ]
  },
  {
   "cell_type": "code",
   "execution_count": 5,
   "id": "c8a4fab4",
   "metadata": {},
   "outputs": [
    {
     "data": {
      "application/vnd.microsoft.datawrangler.viewer.v0+json": {
       "columns": [
        {
         "name": "index",
         "rawType": "int64",
         "type": "integer"
        },
        {
         "name": "duongDan",
         "rawType": "object",
         "type": "string"
        },
        {
         "name": "zcrMean",
         "rawType": "float64",
         "type": "float"
        },
        {
         "name": "specCenMean",
         "rawType": "float64",
         "type": "float"
        },
        {
         "name": "specRolloffMean",
         "rawType": "float64",
         "type": "float"
        },
        {
         "name": "mfcc_0_Mean",
         "rawType": "float64",
         "type": "float"
        },
        {
         "name": "mfcc_1_Mean",
         "rawType": "float64",
         "type": "float"
        },
        {
         "name": "mfcc_2_Mean",
         "rawType": "float64",
         "type": "float"
        },
        {
         "name": "mfcc_3_Mean",
         "rawType": "float64",
         "type": "float"
        },
        {
         "name": "mfcc_4_Mean",
         "rawType": "float64",
         "type": "float"
        },
        {
         "name": "mfcc_5_Mean",
         "rawType": "float64",
         "type": "float"
        },
        {
         "name": "mfcc_6_Mean",
         "rawType": "float64",
         "type": "float"
        },
        {
         "name": "mfcc_7_Mean",
         "rawType": "float64",
         "type": "float"
        },
        {
         "name": "mfcc_8_Mean",
         "rawType": "float64",
         "type": "float"
        },
        {
         "name": "mfcc_9_Mean",
         "rawType": "float64",
         "type": "float"
        },
        {
         "name": "mfcc_10_Mean",
         "rawType": "float64",
         "type": "float"
        },
        {
         "name": "mfcc_11_Mean",
         "rawType": "float64",
         "type": "float"
        },
        {
         "name": "mfcc_12_Mean",
         "rawType": "float64",
         "type": "float"
        },
        {
         "name": "chroma_0_Mean",
         "rawType": "float64",
         "type": "float"
        },
        {
         "name": "chroma_1_Mean",
         "rawType": "float64",
         "type": "float"
        },
        {
         "name": "chroma_2_Mean",
         "rawType": "float64",
         "type": "float"
        },
        {
         "name": "chroma_3_Mean",
         "rawType": "float64",
         "type": "float"
        },
        {
         "name": "chroma_4_Mean",
         "rawType": "float64",
         "type": "float"
        },
        {
         "name": "chroma_5_Mean",
         "rawType": "float64",
         "type": "float"
        },
        {
         "name": "chroma_6_Mean",
         "rawType": "float64",
         "type": "float"
        },
        {
         "name": "chroma_7_Mean",
         "rawType": "float64",
         "type": "float"
        },
        {
         "name": "chroma_8_Mean",
         "rawType": "float64",
         "type": "float"
        },
        {
         "name": "chroma_9_Mean",
         "rawType": "float64",
         "type": "float"
        },
        {
         "name": "chroma_10_Mean",
         "rawType": "float64",
         "type": "float"
        },
        {
         "name": "chroma_11_Mean",
         "rawType": "float64",
         "type": "float"
        }
       ],
       "conversionMethod": "pd.DataFrame",
       "ref": "a034f237-41bf-4f58-9cee-cd1e5042368c",
       "rows": [
        [
         "0",
         "..\\file-birdsong\\songs\\songs\\xc101932.flac",
         "0.3676214621750302",
         "4639.337791363301",
         "7378.780371448005",
         "-721.7138",
         "-75.53075",
         "-73.765816",
         "15.11451",
         "5.051668",
         "23.512499",
         "23.851076",
         "-14.790277",
         "-14.201788",
         "-2.0147204",
         "-1.2815464",
         "19.843008",
         "4.7521234",
         "0.43638384",
         "0.5102116",
         "0.54129815",
         "0.56233096",
         "0.46367282",
         "0.42455935",
         "0.4084831",
         "0.38820392",
         "0.35590097",
         "0.36585817",
         "0.41405347",
         "0.4137547"
        ]
       ],
       "shape": {
        "columns": 29,
        "rows": 1
       }
      },
      "text/html": [
       "<div>\n",
       "<style scoped>\n",
       "    .dataframe tbody tr th:only-of-type {\n",
       "        vertical-align: middle;\n",
       "    }\n",
       "\n",
       "    .dataframe tbody tr th {\n",
       "        vertical-align: top;\n",
       "    }\n",
       "\n",
       "    .dataframe thead th {\n",
       "        text-align: right;\n",
       "    }\n",
       "</style>\n",
       "<table border=\"1\" class=\"dataframe\">\n",
       "  <thead>\n",
       "    <tr style=\"text-align: right;\">\n",
       "      <th></th>\n",
       "      <th>duongDan</th>\n",
       "      <th>zcrMean</th>\n",
       "      <th>specCenMean</th>\n",
       "      <th>specRolloffMean</th>\n",
       "      <th>mfcc_0_Mean</th>\n",
       "      <th>mfcc_1_Mean</th>\n",
       "      <th>mfcc_2_Mean</th>\n",
       "      <th>mfcc_3_Mean</th>\n",
       "      <th>mfcc_4_Mean</th>\n",
       "      <th>mfcc_5_Mean</th>\n",
       "      <th>...</th>\n",
       "      <th>chroma_2_Mean</th>\n",
       "      <th>chroma_3_Mean</th>\n",
       "      <th>chroma_4_Mean</th>\n",
       "      <th>chroma_5_Mean</th>\n",
       "      <th>chroma_6_Mean</th>\n",
       "      <th>chroma_7_Mean</th>\n",
       "      <th>chroma_8_Mean</th>\n",
       "      <th>chroma_9_Mean</th>\n",
       "      <th>chroma_10_Mean</th>\n",
       "      <th>chroma_11_Mean</th>\n",
       "    </tr>\n",
       "  </thead>\n",
       "  <tbody>\n",
       "    <tr>\n",
       "      <th>0</th>\n",
       "      <td>..\\file-birdsong\\songs\\songs\\xc101932.flac</td>\n",
       "      <td>0.367621</td>\n",
       "      <td>4639.337791</td>\n",
       "      <td>7378.780371</td>\n",
       "      <td>-721.7138</td>\n",
       "      <td>-75.53075</td>\n",
       "      <td>-73.765816</td>\n",
       "      <td>15.11451</td>\n",
       "      <td>5.051668</td>\n",
       "      <td>23.512499</td>\n",
       "      <td>...</td>\n",
       "      <td>0.541298</td>\n",
       "      <td>0.562331</td>\n",
       "      <td>0.463673</td>\n",
       "      <td>0.424559</td>\n",
       "      <td>0.408483</td>\n",
       "      <td>0.388204</td>\n",
       "      <td>0.355901</td>\n",
       "      <td>0.365858</td>\n",
       "      <td>0.414053</td>\n",
       "      <td>0.413755</td>\n",
       "    </tr>\n",
       "  </tbody>\n",
       "</table>\n",
       "<p>1 rows × 29 columns</p>\n",
       "</div>"
      ],
      "text/plain": [
       "                                     duongDan   zcrMean  specCenMean  \\\n",
       "0  ..\\file-birdsong\\songs\\songs\\xc101932.flac  0.367621  4639.337791   \n",
       "\n",
       "   specRolloffMean  mfcc_0_Mean  mfcc_1_Mean  mfcc_2_Mean  mfcc_3_Mean  \\\n",
       "0      7378.780371    -721.7138    -75.53075   -73.765816     15.11451   \n",
       "\n",
       "   mfcc_4_Mean  mfcc_5_Mean  ...  chroma_2_Mean  chroma_3_Mean  chroma_4_Mean  \\\n",
       "0     5.051668    23.512499  ...       0.541298       0.562331       0.463673   \n",
       "\n",
       "   chroma_5_Mean  chroma_6_Mean  chroma_7_Mean  chroma_8_Mean  chroma_9_Mean  \\\n",
       "0       0.424559       0.408483       0.388204       0.355901       0.365858   \n",
       "\n",
       "   chroma_10_Mean  chroma_11_Mean  \n",
       "0        0.414053        0.413755  \n",
       "\n",
       "[1 rows x 29 columns]"
      ]
     },
     "execution_count": 5,
     "metadata": {},
     "output_type": "execute_result"
    }
   ],
   "source": [
    "audioInfo1.getVectorFeature()"
   ]
  },
  {
   "cell_type": "markdown",
   "id": "ecada6e4",
   "metadata": {},
   "source": [
    "# chuyển đổi hàng sang Z score"
   ]
  },
  {
   "cell_type": "code",
   "execution_count": null,
   "id": "ecbb1959",
   "metadata": {},
   "outputs": [
    {
     "name": "stdout",
     "output_type": "stream",
     "text": [
      "0.2501093571684764\n"
     ]
    }
   ],
   "source": [
    "mean = dfFv_MeanStd1.loc[ dfFv_MeanStd1['column_name']== 'zcrMean', 'mean_value'].values[0]\n",
    "print(mean)"
   ]
  },
  {
   "cell_type": "code",
   "execution_count": 7,
   "id": "60e98144",
   "metadata": {},
   "outputs": [
    {
     "data": {
      "application/vnd.microsoft.datawrangler.viewer.v0+json": {
       "columns": [
        {
         "name": "index",
         "rawType": "int64",
         "type": "integer"
        },
        {
         "name": "duongDan",
         "rawType": "object",
         "type": "string"
        },
        {
         "name": "zcrMean",
         "rawType": "float64",
         "type": "float"
        },
        {
         "name": "specCenMean",
         "rawType": "float64",
         "type": "float"
        },
        {
         "name": "specRolloffMean",
         "rawType": "float64",
         "type": "float"
        },
        {
         "name": "mfcc_0_Mean",
         "rawType": "float64",
         "type": "float"
        },
        {
         "name": "mfcc_1_Mean",
         "rawType": "float64",
         "type": "float"
        },
        {
         "name": "mfcc_2_Mean",
         "rawType": "float64",
         "type": "float"
        },
        {
         "name": "mfcc_3_Mean",
         "rawType": "float64",
         "type": "float"
        },
        {
         "name": "mfcc_4_Mean",
         "rawType": "float64",
         "type": "float"
        },
        {
         "name": "mfcc_5_Mean",
         "rawType": "float64",
         "type": "float"
        },
        {
         "name": "mfcc_6_Mean",
         "rawType": "float64",
         "type": "float"
        },
        {
         "name": "mfcc_7_Mean",
         "rawType": "float64",
         "type": "float"
        },
        {
         "name": "mfcc_8_Mean",
         "rawType": "float64",
         "type": "float"
        },
        {
         "name": "mfcc_9_Mean",
         "rawType": "float64",
         "type": "float"
        },
        {
         "name": "mfcc_10_Mean",
         "rawType": "float64",
         "type": "float"
        },
        {
         "name": "mfcc_11_Mean",
         "rawType": "float64",
         "type": "float"
        },
        {
         "name": "mfcc_12_Mean",
         "rawType": "float64",
         "type": "float"
        },
        {
         "name": "chroma_0_Mean",
         "rawType": "float64",
         "type": "float"
        },
        {
         "name": "chroma_1_Mean",
         "rawType": "float64",
         "type": "float"
        },
        {
         "name": "chroma_2_Mean",
         "rawType": "float64",
         "type": "float"
        },
        {
         "name": "chroma_3_Mean",
         "rawType": "float64",
         "type": "float"
        },
        {
         "name": "chroma_4_Mean",
         "rawType": "float64",
         "type": "float"
        },
        {
         "name": "chroma_5_Mean",
         "rawType": "float64",
         "type": "float"
        },
        {
         "name": "chroma_6_Mean",
         "rawType": "float64",
         "type": "float"
        },
        {
         "name": "chroma_7_Mean",
         "rawType": "float64",
         "type": "float"
        },
        {
         "name": "chroma_8_Mean",
         "rawType": "float64",
         "type": "float"
        },
        {
         "name": "chroma_9_Mean",
         "rawType": "float64",
         "type": "float"
        },
        {
         "name": "chroma_10_Mean",
         "rawType": "float64",
         "type": "float"
        },
        {
         "name": "chroma_11_Mean",
         "rawType": "float64",
         "type": "float"
        }
       ],
       "conversionMethod": "pd.DataFrame",
       "ref": "4141799f-4852-400f-84b5-aa5cd19bc0b1",
       "rows": [
        [
         "3",
         "..\\file-birdsong\\songs\\songs\\xc101932.flac",
         "1.027596381843034",
         "1.134325704098895",
         "1.2647910078029412",
         "-2.898897125669578",
         "-1.5089030730435733",
         "-1.1183206724675971",
         "-0.19589908151436597",
         "0.7823361934290034",
         "0.9249809734320686",
         "1.9551233797087793",
         "-1.077910725390139",
         "-0.8482634076665647",
         "-0.11436765341770987",
         "0.2943514617293237",
         "2.4530803959752556",
         "0.767919704390352",
         "-0.15815083525435622",
         "0.5280706739936921",
         "0.8964666320087482",
         "1.0664687521092306",
         "0.38314959668729076",
         "0.09919098679294115",
         "-0.08553944337516106",
         "-0.3295213514973783",
         "-0.6306914605782825",
         "-0.604701851346605",
         "-0.2954344165402487",
         "-0.3483924740657637"
        ]
       ],
       "shape": {
        "columns": 29,
        "rows": 1
       }
      },
      "text/html": [
       "<div>\n",
       "<style scoped>\n",
       "    .dataframe tbody tr th:only-of-type {\n",
       "        vertical-align: middle;\n",
       "    }\n",
       "\n",
       "    .dataframe tbody tr th {\n",
       "        vertical-align: top;\n",
       "    }\n",
       "\n",
       "    .dataframe thead th {\n",
       "        text-align: right;\n",
       "    }\n",
       "</style>\n",
       "<table border=\"1\" class=\"dataframe\">\n",
       "  <thead>\n",
       "    <tr style=\"text-align: right;\">\n",
       "      <th></th>\n",
       "      <th>duongDan</th>\n",
       "      <th>zcrMean</th>\n",
       "      <th>specCenMean</th>\n",
       "      <th>specRolloffMean</th>\n",
       "      <th>mfcc_0_Mean</th>\n",
       "      <th>mfcc_1_Mean</th>\n",
       "      <th>mfcc_2_Mean</th>\n",
       "      <th>mfcc_3_Mean</th>\n",
       "      <th>mfcc_4_Mean</th>\n",
       "      <th>mfcc_5_Mean</th>\n",
       "      <th>...</th>\n",
       "      <th>chroma_2_Mean</th>\n",
       "      <th>chroma_3_Mean</th>\n",
       "      <th>chroma_4_Mean</th>\n",
       "      <th>chroma_5_Mean</th>\n",
       "      <th>chroma_6_Mean</th>\n",
       "      <th>chroma_7_Mean</th>\n",
       "      <th>chroma_8_Mean</th>\n",
       "      <th>chroma_9_Mean</th>\n",
       "      <th>chroma_10_Mean</th>\n",
       "      <th>chroma_11_Mean</th>\n",
       "    </tr>\n",
       "  </thead>\n",
       "  <tbody>\n",
       "    <tr>\n",
       "      <th>3</th>\n",
       "      <td>..\\file-birdsong\\songs\\songs\\xc101932.flac</td>\n",
       "      <td>1.027596</td>\n",
       "      <td>1.134326</td>\n",
       "      <td>1.264791</td>\n",
       "      <td>-2.898897</td>\n",
       "      <td>-1.508903</td>\n",
       "      <td>-1.118321</td>\n",
       "      <td>-0.195899</td>\n",
       "      <td>0.782336</td>\n",
       "      <td>0.924981</td>\n",
       "      <td>...</td>\n",
       "      <td>0.896467</td>\n",
       "      <td>1.066469</td>\n",
       "      <td>0.38315</td>\n",
       "      <td>0.099191</td>\n",
       "      <td>-0.085539</td>\n",
       "      <td>-0.329521</td>\n",
       "      <td>-0.630691</td>\n",
       "      <td>-0.604702</td>\n",
       "      <td>-0.295434</td>\n",
       "      <td>-0.348392</td>\n",
       "    </tr>\n",
       "  </tbody>\n",
       "</table>\n",
       "<p>1 rows × 29 columns</p>\n",
       "</div>"
      ],
      "text/plain": [
       "                                     duongDan   zcrMean  specCenMean  \\\n",
       "3  ..\\file-birdsong\\songs\\songs\\xc101932.flac  1.027596     1.134326   \n",
       "\n",
       "   specRolloffMean  mfcc_0_Mean  mfcc_1_Mean  mfcc_2_Mean  mfcc_3_Mean  \\\n",
       "3         1.264791    -2.898897    -1.508903    -1.118321    -0.195899   \n",
       "\n",
       "   mfcc_4_Mean  mfcc_5_Mean  ...  chroma_2_Mean  chroma_3_Mean  chroma_4_Mean  \\\n",
       "3     0.782336     0.924981  ...       0.896467       1.066469        0.38315   \n",
       "\n",
       "   chroma_5_Mean  chroma_6_Mean  chroma_7_Mean  chroma_8_Mean  chroma_9_Mean  \\\n",
       "3       0.099191      -0.085539      -0.329521      -0.630691      -0.604702   \n",
       "\n",
       "   chroma_10_Mean  chroma_11_Mean  \n",
       "3       -0.295434       -0.348392  \n",
       "\n",
       "[1 rows x 29 columns]"
      ]
     },
     "execution_count": 7,
     "metadata": {},
     "output_type": "execute_result"
    }
   ],
   "source": [
    "# dfFv1.loc[[3]]    = dataframe\n",
    "# dfFv1.loc[3]      = series = không duyệt được cột\n",
    "\n",
    "dfFvZ = ConvertFvToFvZ.convertFvToFvZ(dfFvRow= dfFv1.loc[[3]], dfFv_MeanStd= dfFv_MeanStd1)\n",
    "dfFvZ"
   ]
  }
 ],
 "metadata": {
  "kernelspec": {
   "display_name": "Python 3",
   "language": "python",
   "name": "python3"
  },
  "language_info": {
   "codemirror_mode": {
    "name": "ipython",
    "version": 3
   },
   "file_extension": ".py",
   "mimetype": "text/x-python",
   "name": "python",
   "nbconvert_exporter": "python",
   "pygments_lexer": "ipython3",
   "version": "3.13.3"
  }
 },
 "nbformat": 4,
 "nbformat_minor": 5
}
