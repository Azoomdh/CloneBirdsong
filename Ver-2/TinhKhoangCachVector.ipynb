{
 "cells": [
  {
   "cell_type": "code",
   "execution_count": 1,
   "id": "a88dc0d8",
   "metadata": {},
   "outputs": [],
   "source": [
    "import TinhKhoangCachVector"
   ]
  },
  {
   "cell_type": "code",
   "execution_count": 2,
   "id": "af1b6c4c",
   "metadata": {},
   "outputs": [],
   "source": [
    "import pandas as pd"
   ]
  },
  {
   "cell_type": "code",
   "execution_count": 3,
   "id": "d08bc21f",
   "metadata": {},
   "outputs": [],
   "source": [
    "duongDanCsvFv1 = \"..\\\\file-birdsong\\\\songs\\\\birdsongFeatureVector.csv\"\n",
    "\n",
    "duongDanCsvFvMeanStd1 = \"..\\\\file-birdsong\\\\songs\\\\birdsongFvMeanStd.csv\""
   ]
  },
  {
   "cell_type": "code",
   "execution_count": 4,
   "id": "6ef3f772",
   "metadata": {},
   "outputs": [],
   "source": [
    "dfFv1= pd.read_csv(filepath_or_buffer= duongDanCsvFv1)\n",
    "\n",
    "dfFv_MeanStd1 = pd.read_csv(filepath_or_buffer= duongDanCsvFvMeanStd1)"
   ]
  },
  {
   "cell_type": "code",
   "execution_count": 5,
   "id": "babccfdf",
   "metadata": {},
   "outputs": [],
   "source": [
    "khoangCach = TinhKhoangCachVector.doKhoangCach2DfFv(dfFv1= dfFv1.iloc[[0]], dfFv2= dfFv1.iloc[[3]], dfFvMeanStd= dfFv_MeanStd1);"
   ]
  },
  {
   "cell_type": "code",
   "execution_count": 6,
   "id": "f66d0563",
   "metadata": {},
   "outputs": [
    {
     "name": "stdout",
     "output_type": "stream",
     "text": [
      "10.711565008906446\n"
     ]
    }
   ],
   "source": [
    "print(khoangCach)"
   ]
  }
 ],
 "metadata": {
  "language_info": {
   "name": "python"
  }
 },
 "nbformat": 4,
 "nbformat_minor": 5
}
