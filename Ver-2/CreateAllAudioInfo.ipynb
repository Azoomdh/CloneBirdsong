{
 "cells": [
  {
   "cell_type": "code",
   "execution_count": 1,
   "id": "71109bc2",
   "metadata": {},
   "outputs": [],
   "source": [
    "import CreateAllAudioInfo;"
   ]
  },
  {
   "cell_type": "markdown",
   "id": "8e6ed125",
   "metadata": {},
   "source": [
    "<a href= \"..\\\\file-birdsong\\\\songs\\\\songs\">..\\\\file-birdsong\\\\songs\\\\songs</a>\n",
    "\n",
    "\n",
    "<a href= \"..\\\\file-birdsong\\\\songs\\\\birdsongFeatureVector.csv\"> ..\\\\file-birdsong\\\\songs\\\\birdsongFeatureVector.csv </a>"
   ]
  },
  {
   "cell_type": "code",
   "execution_count": 2,
   "id": "6d5b1b72",
   "metadata": {},
   "outputs": [],
   "source": [
    "duongDanThuMuc1 = \"..\\\\file-birdsong\\\\songs\\\\songs\"\n",
    "\n",
    "duongDanFileCsv1 = \"..\\\\file-birdsong\\\\songs\\\\birdsongFeatureVector.csv\""
   ]
  },
  {
   "cell_type": "code",
   "execution_count": 3,
   "id": "8e3a97c3",
   "metadata": {},
   "outputs": [
    {
     "name": "stderr",
     "output_type": "stream",
     "text": [
      "C:\\Users\\azoom\\AppData\\Roaming\\Python\\Python313\\site-packages\\librosa\\core\\pitch.py:103: UserWarning: Trying to estimate tuning from empty frequency set.\n",
      "  return pitch_tuning(\n"
     ]
    }
   ],
   "source": [
    "CreateAllAudioInfo.createAllAudio(duongDanThuMuc= duongDanThuMuc1, duongDanFileCsv= duongDanFileCsv1);"
   ]
  },
  {
   "cell_type": "code",
   "execution_count": null,
   "id": "94012018",
   "metadata": {},
   "outputs": [],
   "source": []
  }
 ],
 "metadata": {
  "kernelspec": {
   "display_name": "Python 3",
   "language": "python",
   "name": "python3"
  },
  "language_info": {
   "codemirror_mode": {
    "name": "ipython",
    "version": 3
   },
   "file_extension": ".py",
   "mimetype": "text/x-python",
   "name": "python",
   "nbconvert_exporter": "python",
   "pygments_lexer": "ipython3",
   "version": "3.13.3"
  }
 },
 "nbformat": 4,
 "nbformat_minor": 5
}
