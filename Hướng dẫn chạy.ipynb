{
 "cells": [
  {
   "cell_type": "markdown",
   "id": "5e324435",
   "metadata": {},
   "source": [
    "# 1\n",
    "chạy file : <a href=\"Ver-2\\CreateAllAudioInfo.ipynb\"> \"Ver-2\\CreateAllAudioInfo.ipynb\"\" </a>"
   ]
  },
  {
   "cell_type": "markdown",
   "id": "4c249377",
   "metadata": {},
   "source": [
    "# 2 \n",
    "chạy file <a href=\"Ver-2\\TinhMeanVaStd.ipynb\"> Ver-2\\TinhMeanVaStd.ipynb </a>"
   ]
  },
  {
   "cell_type": "markdown",
   "id": "9114c8ab",
   "metadata": {},
   "source": [
    "# 3\n",
    "chạy file <a href=\"Ver-2\\TinhKhoangCachMoiVector.ipynb\"> Ver-2\\TinhKhoangCachMoiVector.ipynb </a>"
   ]
  }
 ],
 "metadata": {
  "kernelspec": {
   "display_name": "Python 3",
   "language": "python",
   "name": "python3"
  },
  "language_info": {
   "name": "python",
   "version": "3.13.3"
  }
 },
 "nbformat": 4,
 "nbformat_minor": 5
}
